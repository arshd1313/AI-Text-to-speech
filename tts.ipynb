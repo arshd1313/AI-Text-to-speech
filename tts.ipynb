{
 "cells": [
  {
   "cell_type": "code",
   "execution_count": 36,
   "metadata": {},
   "outputs": [],
   "source": [
    "from transformers import AutoModelForSeq2SeqLM,pipeline\n",
    "from transformers import SpeechT5Processor, SpeechT5ForTextToSpeech, SpeechT5HifiGan\n",
    "import torch\n",
    "from IPython.display import Audio\n",
    "import os\n",
    "from transformers import pipeline\n",
    "import sys\n",
    "import transformers \n",
    "import soundfile as sf\n",
    "import tensorflow as tf\n",
    "from datasets import load_dataset\n",
    "import pandas as pd\n",
    "from transformers import TFAutoModelForSeq2SeqLM, DataCollatorForSeq2Seq\n",
    "from transformers import AdamWeightDecay\n",
    "from transformers import AutoTokenizer, TFAutoModelForSeq2SeqLM\n",
    "import pickle"
   ]
  },
  {
   "cell_type": "code",
   "execution_count": 37,
   "metadata": {},
   "outputs": [],
   "source": [
    "LANG_ID = \"en\"\n",
    "MODEL_ID = \"microsoft/speecht5_tts\"\n",
    "model_checkpoint = \"Matthijs/cmu-arctic-xvectors\" "
   ]
  },
  {
   "cell_type": "code",
   "execution_count": 38,
   "metadata": {},
   "outputs": [],
   "source": [
    "#create Pipeline through model and datasets\n",
    "synthesiser = pipeline(\"text-to-speech\", \"microsoft/speecht5_tts\")"
   ]
  },
  {
   "cell_type": "code",
   "execution_count": 39,
   "metadata": {},
   "outputs": [],
   "source": [
    "#split the data\n",
    "embeddings_dataset = load_dataset(\"Matthijs/cmu-arctic-xvectors\", split=\"validation\")"
   ]
  },
  {
   "cell_type": "code",
   "execution_count": 40,
   "metadata": {},
   "outputs": [
    {
     "data": {
      "text/plain": [
       "Dataset({\n",
       "    features: ['filename', 'xvector'],\n",
       "    num_rows: 7931\n",
       "})"
      ]
     },
     "execution_count": 40,
     "metadata": {},
     "output_type": "execute_result"
    }
   ],
   "source": [
    "embeddings_dataset"
   ]
  },
  {
   "cell_type": "code",
   "execution_count": 45,
   "metadata": {},
   "outputs": [
    {
     "name": "stdout",
     "output_type": "stream",
     "text": [
      "                                filename  \\\n",
      "0     cmu_us_awb_arctic-wav-arctic_a0001   \n",
      "1     cmu_us_awb_arctic-wav-arctic_a0002   \n",
      "2     cmu_us_awb_arctic-wav-arctic_a0003   \n",
      "3     cmu_us_awb_arctic-wav-arctic_a0004   \n",
      "4     cmu_us_awb_arctic-wav-arctic_a0005   \n",
      "...                                  ...   \n",
      "7926  cmu_us_slt_arctic-wav-arctic_b0535   \n",
      "7927  cmu_us_slt_arctic-wav-arctic_b0536   \n",
      "7928  cmu_us_slt_arctic-wav-arctic_b0537   \n",
      "7929  cmu_us_slt_arctic-wav-arctic_b0538   \n",
      "7930  cmu_us_slt_arctic-wav-arctic_b0539   \n",
      "\n",
      "                                                xvector  \n",
      "0     [-0.07474489510059357, 0.002643823390826583, 0...  \n",
      "1     [-0.07644536346197128, -0.0009531683172099292,...  \n",
      "2     [-0.06396710127592087, 0.01184888742864132, 0....  \n",
      "3     [-0.06964873522520065, 0.011416902765631676, 0...  \n",
      "4     [-0.07835829257965088, -0.009117310866713524, ...  \n",
      "...                                                 ...  \n",
      "7926  [-0.07841424643993378, -0.02440248802304268, 0...  \n",
      "7927  [-0.07063990086317062, -0.017531732097268105, ...  \n",
      "7928  [-0.06314679980278015, -0.01912642829120159, 0...  \n",
      "7929  [-0.06944674253463745, -0.021543070673942566, ...  \n",
      "7930  [-0.07710704207420349, -0.0144792590290308, 0....  \n",
      "\n",
      "[7931 rows x 2 columns]\n"
     ]
    }
   ],
   "source": [
    "from datasets import load_dataset\n",
    "import pandas as pd\n",
    "embeddings_dataset = load_dataset(\"Matthijs/cmu-arctic-xvectors\", split=\"validation\")\n",
    "df = pd.DataFrame(embeddings_dataset)\n",
    "print(df)\n"
   ]
  },
  {
   "cell_type": "code",
   "execution_count": 46,
   "metadata": {},
   "outputs": [],
   "source": [
    "#create embedding of speaker\n",
    "new_speaker_embedding = torch.tensor(embeddings_dataset[7306][\"xvector\"]).unsqueeze(0)"
   ]
  },
  {
   "cell_type": "code",
   "execution_count": null,
   "metadata": {},
   "outputs": [],
   "source": [
    "# replace this embedding with your own \n",
    "\n",
    "speech = synthesiser(\"Hello,i am arshdeep \", forward_params={\"speaker_embeddings\": new_speaker_embedding})"
   ]
  },
  {
   "cell_type": "code",
   "execution_count": null,
   "metadata": {},
   "outputs": [],
   "source": [
    "#create speech wave file for audio as aoutput\n",
    "sf.write(\"output.wav\", speech[\"audio\"], samplerate=speech[\"sampling_rate\"])"
   ]
  },
  {
   "cell_type": "code",
   "execution_count": null,
   "metadata": {},
   "outputs": [],
   "source": [
    "pickle_out =open(\"classifier.pkl\",\"wb\")\n"
   ]
  },
  {
   "cell_type": "code",
   "execution_count": null,
   "metadata": {},
   "outputs": [],
   "source": [
    "\n",
    "pickle.dump(embeddings_dataset, pickle_out)\n",
    "pickle_out.close()"
   ]
  },
  {
   "cell_type": "code",
   "execution_count": null,
   "metadata": {},
   "outputs": [],
   "source": [
    "\n"
   ]
  }
 ],
 "metadata": {
  "kernelspec": {
   "display_name": "Python 3",
   "language": "python",
   "name": "python3"
  },
  "language_info": {
   "codemirror_mode": {
    "name": "ipython",
    "version": 3
   },
   "file_extension": ".py",
   "mimetype": "text/x-python",
   "name": "python",
   "nbconvert_exporter": "python",
   "pygments_lexer": "ipython3",
   "version": "3.8.10"
  }
 },
 "nbformat": 4,
 "nbformat_minor": 2
}
