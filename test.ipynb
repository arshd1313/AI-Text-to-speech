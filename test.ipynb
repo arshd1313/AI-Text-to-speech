{
 "cells": [
  {
   "cell_type": "code",
   "execution_count": 10,
   "metadata": {},
   "outputs": [],
   "source": [
    "import pickle\n",
    "import soundfile as sf"
   ]
  },
  {
   "cell_type": "code",
   "execution_count": 11,
   "metadata": {},
   "outputs": [],
   "source": [
    "model=pickle.load(open(\"model.pkl\",\"rb\"))"
   ]
  },
  {
   "cell_type": "code",
   "execution_count": 12,
   "metadata": {},
   "outputs": [
    {
     "name": "stdout",
     "output_type": "stream",
     "text": [
      "The loaded object is not a valid model.\n"
     ]
    }
   ],
   "source": [
    "import pickle\n",
    "\n",
    "# Assuming you saved a scikit-learn model with pickle\n",
    "model_path = \"model.pkl\"\n",
    "with open(model_path, \"rb\") as file:\n",
    "    model = pickle.load(file)\n",
    "\n",
    "# Check if it's a valid model object with a 'predict' method\n",
    "if hasattr(model, \"predict\"):\n",
    "    # Now you can use the 'predict' method\n",
    "    prediction = model.predict(\"hello world\")\n",
    "    print(prediction)\n",
    "else:\n",
    "    print(\"The loaded object is not a valid model.\")\n"
   ]
  },
  {
   "cell_type": "code",
   "execution_count": null,
   "metadata": {},
   "outputs": [],
   "source": []
  }
 ],
 "metadata": {
  "kernelspec": {
   "display_name": "Python 3",
   "language": "python",
   "name": "python3"
  },
  "language_info": {
   "codemirror_mode": {
    "name": "ipython",
    "version": 3
   },
   "file_extension": ".py",
   "mimetype": "text/x-python",
   "name": "python",
   "nbconvert_exporter": "python",
   "pygments_lexer": "ipython3",
   "version": "3.8.10"
  }
 },
 "nbformat": 4,
 "nbformat_minor": 2
}
